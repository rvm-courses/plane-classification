{
  "nbformat": 4,
  "nbformat_minor": 0,
  "metadata": {
    "colab": {
      "name": "train_classification_model.ipynb",
      "provenance": [],
      "collapsed_sections": [],
      "authorship_tag": "ABX9TyNafA5G0pOnqCmvXU/ZkYRR",
      "include_colab_link": true
    },
    "kernelspec": {
      "name": "python3",
      "display_name": "Python 3"
    },
    "language_info": {
      "name": "python"
    }
  },
  "cells": [
    {
      "cell_type": "markdown",
      "metadata": {
        "id": "view-in-github",
        "colab_type": "text"
      },
      "source": [
        "<a href=\"https://colab.research.google.com/github/rvm-courses/plane-classification/blob/main/notebooks/train_classification_model.ipynb\" target=\"_parent\"><img src=\"https://colab.research.google.com/assets/colab-badge.svg\" alt=\"Open In Colab\"/></a>"
      ]
    },
    {
      "cell_type": "code",
      "execution_count": 1,
      "metadata": {
        "colab": {
          "base_uri": "https://localhost:8080/"
        },
        "id": "VgmaCkAMYtDe",
        "outputId": "e64d7c61-3b72-4894-e42c-8e64565b4201"
      },
      "outputs": [
        {
          "output_type": "stream",
          "name": "stdout",
          "text": [
            "  % Total    % Received % Xferd  Average Speed   Time    Time     Time  Current\n",
            "                                 Dload  Upload   Total   Spent    Left  Speed\n",
            "100 2625M  100 2625M    0     0  7435k      0  0:06:01  0:06:01 --:--:-- 21.3M\n"
          ]
        }
      ],
      "source": [
        "!curl -O https://www.robots.ox.ac.uk/~vgg/data/fgvc-aircraft/archives/fgvc-aircraft-2013b.tar.gz\n",
        "!tar xzf fgvc-aircraft-2013b.tar.gz\n",
        "!mv fgvc-aircraft-2013b dataset"
      ]
    },
    {
      "cell_type": "code",
      "source": [
        "import pathlib\n",
        "\n",
        "import pandas as pd"
      ],
      "metadata": {
        "id": "MpYIMjSYZMLQ"
      },
      "execution_count": 3,
      "outputs": []
    },
    {
      "cell_type": "code",
      "source": [
        "DATA_DIR = pathlib.Path('dataset/data')"
      ],
      "metadata": {
        "id": "Dr_2EW33bf-Q"
      },
      "execution_count": 4,
      "outputs": []
    },
    {
      "cell_type": "code",
      "source": [
        "pd.__version__"
      ],
      "metadata": {
        "colab": {
          "base_uri": "https://localhost:8080/",
          "height": 36
        },
        "id": "-ELuIJ8Weged",
        "outputId": "17e04652-0c39-49e3-da36-327707f39a0b"
      },
      "execution_count": 7,
      "outputs": [
        {
          "output_type": "execute_result",
          "data": {
            "application/vnd.google.colaboratory.intrinsic+json": {
              "type": "string"
            },
            "text/plain": [
              "'1.3.5'"
            ]
          },
          "metadata": {},
          "execution_count": 7
        }
      ]
    },
    {
      "cell_type": "code",
      "source": [
        "manufacturer_df = pd.read_csv(DATA_DIR / 'images_manufacturer_train.txt', sep=' ',\n",
        "            names=['image_id', 'manufacturer'],\n",
        "            usecols=['image_id', 'manufacturer'], # usecols for v1.4 compatibility\n",
        "            dtype={'image_id': str},              # ids are not int but string\n",
        "           )"
      ],
      "metadata": {
        "id": "feQN_B_oavZQ"
      },
      "execution_count": 10,
      "outputs": []
    },
    {
      "cell_type": "markdown",
      "source": [
        "## Verify data"
      ],
      "metadata": {
        "id": "wSuWOM9nh-My"
      }
    },
    {
      "cell_type": "code",
      "source": [
        "manufacturer_df['manufacturer'].value_counts(dropna=False)"
      ],
      "metadata": {
        "colab": {
          "base_uri": "https://localhost:8080/"
        },
        "id": "paQqQO1hdch1",
        "outputId": "60bd7d9d-bec5-4ee0-db58-0d1aa6719ade"
      },
      "execution_count": 11,
      "outputs": [
        {
          "output_type": "execute_result",
          "data": {
            "text/plain": [
              "Boeing         733\n",
              "Airbus         434\n",
              "Embraer        233\n",
              "McDonnell      232\n",
              "de             167\n",
              "Canadair       134\n",
              "Douglas        133\n",
              "Cessna         133\n",
              "British        133\n",
              "Lockheed       102\n",
              "Fokker         100\n",
              "Dassault        67\n",
              "Gulfstream      67\n",
              "Beechcraft      67\n",
              "Saab            67\n",
              "Tupolev         66\n",
              "ATR             66\n",
              "Panavia         34\n",
              "Antonov         34\n",
              "Dornier         34\n",
              "Yakovlev        34\n",
              "Bombardier      33\n",
              "Ilyushin        33\n",
              "Fairchild       33\n",
              "Piper           33\n",
              "Cirrus          33\n",
              "Eurofighter     33\n",
              "Supermarine     33\n",
              "Robin           33\n",
              "Name: manufacturer, dtype: int64"
            ]
          },
          "metadata": {},
          "execution_count": 11
        }
      ]
    },
    {
      "cell_type": "code",
      "source": [
        "manufacturer_df.isna().sum()"
      ],
      "metadata": {
        "colab": {
          "base_uri": "https://localhost:8080/"
        },
        "id": "jFiETklBhno9",
        "outputId": "0bbba90a-a970-4140-82c6-8e9e35b767fc"
      },
      "execution_count": 12,
      "outputs": [
        {
          "output_type": "execute_result",
          "data": {
            "text/plain": [
              "image_id        0\n",
              "manufacturer    0\n",
              "dtype: int64"
            ]
          },
          "metadata": {},
          "execution_count": 12
        }
      ]
    },
    {
      "cell_type": "code",
      "source": [
        "assert manufacturer_df['image_id'].isna().sum() == 0, \"Valeur manquante dans image_id\"\n",
        "assert manufacturer_df['manufacturer'].isna().sum() == 0, \"Valeur manquante dans manufacturer\""
      ],
      "metadata": {
        "id": "16LEf8A4iTn7"
      },
      "execution_count": 16,
      "outputs": []
    },
    {
      "cell_type": "markdown",
      "source": [
        "## Deal with N columns"
      ],
      "metadata": {
        "id": "04de5VNXkcEy"
      }
    },
    {
      "cell_type": "code",
      "source": [
        "! grep ',' dataset/data/images_manufacturer_train.txt"
      ],
      "metadata": {
        "id": "xLSb__cpoVXp"
      },
      "execution_count": 43,
      "outputs": []
    },
    {
      "cell_type": "code",
      "source": [
        "# Recherche le caractère T dans le fichier et n'affiche que trois lignes (head -3)\n",
        "! grep 'T' dataset/data/images_manufacturer_train.txt | head -3"
      ],
      "metadata": {
        "colab": {
          "base_uri": "https://localhost:8080/"
        },
        "id": "7URQG153oo12",
        "outputId": "f7097aec-015e-4bc5-d9df-3ba105f1fc64"
      },
      "execution_count": 48,
      "outputs": [
        {
          "output_type": "stream",
          "name": "stdout",
          "text": [
            "0724121 ATR\n",
            "0619697 ATR\n",
            "2243949 ATR\n"
          ]
        }
      ]
    },
    {
      "cell_type": "code",
      "source": [
        "# wc : compte le nombre d'éléments (-l : ligne, -c : caractère, -w : word)\n",
        "! grep 'T' dataset/data/images_manufacturer_train.txt | wc -l"
      ],
      "metadata": {
        "colab": {
          "base_uri": "https://localhost:8080/"
        },
        "id": "HClFFaszpPZV",
        "outputId": "27c72844-9e02-4d7a-ffec-c4fb7fa2d22e"
      },
      "execution_count": 54,
      "outputs": [
        {
          "output_type": "stream",
          "name": "stdout",
          "text": [
            "132\n"
          ]
        }
      ]
    },
    {
      "cell_type": "code",
      "source": [
        "!cut -f 1 -d ' ' dataset/data/images_manufacturer_train.txt | head -3"
      ],
      "metadata": {
        "colab": {
          "base_uri": "https://localhost:8080/"
        },
        "id": "ADBAL1zXqHo4",
        "outputId": "77cf8152-e68c-4709-d8c9-c9a625d7389d"
      },
      "execution_count": 58,
      "outputs": [
        {
          "output_type": "stream",
          "name": "stdout",
          "text": [
            "1025794\n",
            "1340192\n",
            "0056978\n"
          ]
        }
      ]
    },
    {
      "cell_type": "code",
      "source": [
        "manufacturer_df = pd.read_csv(DATA_DIR / 'images_manufacturer_train.txt', sep='\\t',\n",
        "            names=['all'],\n",
        "            dtype={'all': str},              # ids are not int but string\n",
        "           )\n",
        "\n",
        "# La fonction split() découpe une chaîne de caractères\n",
        "manufacturer_df['image_id'] = manufacturer_df['all'].apply(lambda x: x.split(' ')[0])\n",
        "\n",
        "# La fonction '<car>'.join(liste) concatène les éléments de liste en utilisant le séparateur <car>\n",
        "manufacturer_df['manufacturer'] = manufacturer_df['all'].apply(lambda x: ' '.join(x.split(' ')[1:]))"
      ],
      "metadata": {
        "id": "nSnzpmQeko8s"
      },
      "execution_count": 42,
      "outputs": []
    },
    {
      "cell_type": "code",
      "source": [
        "manufacturer_df['manufacturer'].unique()"
      ],
      "metadata": {
        "colab": {
          "base_uri": "https://localhost:8080/"
        },
        "id": "wQM4hx9ullxf",
        "outputId": "b6d8209b-1df1-4d80-e233-9c0202914c83"
      },
      "execution_count": 40,
      "outputs": [
        {
          "output_type": "execute_result",
          "data": {
            "text/plain": [
              "array(['Boeing', 'Airbus', 'ATR', 'Antonov', 'British-Aerospace',\n",
              "       'Beechcraft', 'Lockheed-Corporation', 'Douglas-Aircraft-Company',\n",
              "       'Canadair', 'Cessna', 'McDonnell-Douglas', 'de-Havilland', 'Robin',\n",
              "       'Dornier', 'Embraer', 'Eurofighter', 'Lockheed-Martin',\n",
              "       'Dassault-Aviation', 'Fokker', 'Bombardier-Aerospace',\n",
              "       'Gulfstream-Aerospace', 'Ilyushin', 'Fairchild', 'Piper',\n",
              "       'Cirrus-Aircraft', 'Saab', 'Supermarine', 'Panavia', 'Tupolev',\n",
              "       'Yakovlev'], dtype=object)"
            ]
          },
          "metadata": {},
          "execution_count": 40
        }
      ]
    },
    {
      "cell_type": "code",
      "source": [
        ""
      ],
      "metadata": {
        "id": "EPFfKMJ6lnfv"
      },
      "execution_count": null,
      "outputs": []
    }
  ]
}