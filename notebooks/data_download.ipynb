{
 "cells": [
  {
   "cell_type": "markdown",
   "metadata": {
    "colab_type": "text",
    "id": "view-in-github"
   },
   "source": [
    "<a href=\"https://colab.research.google.com/github/rvm-courses/plane-classification/blob/main/notebooks/data_download.ipynb\" target=\"_parent\"><img src=\"https://colab.research.google.com/assets/colab-badge.svg\" alt=\"Open In Colab\"/></a>"
   ]
  },
  {
   "cell_type": "markdown",
   "metadata": {
    "id": "LkN6Ih4Y_8we"
   },
   "source": [
    "# Download images & annotations"
   ]
  },
  {
   "cell_type": "code",
   "execution_count": 1,
   "metadata": {
    "colab": {
     "base_uri": "https://localhost:8080/"
    },
    "id": "McKz6YK66Rai",
    "outputId": "d1e0398b-01d3-4315-e4f4-9ae6c9adc508"
   },
   "outputs": [
    {
     "name": "stdout",
     "output_type": "stream",
     "text": [
      "  % Total    % Received % Xferd  Average Speed   Time    Time     Time  Current\n",
      "                                 Dload  Upload   Total   Spent    Left  Speed\n",
      "100 2625M  100 2625M    0     0  11.6M      0  0:03:45  0:03:45 --:--:-- 5568k\n"
     ]
    }
   ],
   "source": [
    "# curl : download data and save to file\n",
    "!curl -O https://www.robots.ox.ac.uk/~vgg/data/fgvc-aircraft/archives/fgvc-aircraft-2013b.tar.gz"
   ]
  },
  {
   "cell_type": "code",
   "execution_count": null,
   "metadata": {
    "id": "Bh4h8pVg7N7Z"
   },
   "outputs": [],
   "source": [
    "# Fichiers tar\n",
    "# commandes :\n",
    "#   x : extraire\n",
    "#   t : lister les fichiers sans décompresser\n",
    "#   v : pour avoir du détail (verbose)\n",
    "#   z : le fichier est compressé\n",
    "#   c : créer un tarfile\n",
    "#   f : pour indiquer le nom du fichier (en dernier dans la liste des options)\n",
    "#\n",
    "# Exemple pour lister les fichiers avant de décompresser\n",
    "!tar tzvf fgvc-aircraft-2013b.tar.gz"
   ]
  },
  {
   "cell_type": "markdown",
   "metadata": {
    "id": "An7bvakOADHm"
   },
   "source": [
    "## Untar files"
   ]
  },
  {
   "cell_type": "code",
   "execution_count": 3,
   "metadata": {
    "id": "vBtpWctQ-hGO"
   },
   "outputs": [],
   "source": [
    "!tar xzf fgvc-aircraft-2013b.tar.gz"
   ]
  }
 ],
 "metadata": {
  "colab": {
   "authorship_tag": "ABX9TyPrBBsgcaPJamLgK7k1x444",
   "include_colab_link": true,
   "name": "data_download.ipynb",
   "provenance": []
  },
  "kernelspec": {
   "display_name": "Python 3",
   "language": "python",
   "name": "python3"
  },
  "language_info": {
   "codemirror_mode": {
    "name": "ipython",
    "version": 3
   },
   "file_extension": ".py",
   "mimetype": "text/x-python",
   "name": "python",
   "nbconvert_exporter": "python",
   "pygments_lexer": "ipython3",
   "version": "3.6.9"
  }
 },
 "nbformat": 4,
 "nbformat_minor": 4
}
