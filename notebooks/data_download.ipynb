{
  "nbformat": 4,
  "nbformat_minor": 0,
  "metadata": {
    "colab": {
      "name": "data_download.ipynb",
      "provenance": [],
      "authorship_tag": "ABX9TyPrBBsgcaPJamLgK7k1x444",
      "include_colab_link": true
    },
    "kernelspec": {
      "name": "python3",
      "display_name": "Python 3"
    },
    "language_info": {
      "name": "python"
    }
  },
  "cells": [
    {
      "cell_type": "markdown",
      "metadata": {
        "id": "view-in-github",
        "colab_type": "text"
      },
      "source": [
        "<a href=\"https://colab.research.google.com/github/rvm-courses/plane-classification/blob/main/notebooks/data_download.ipynb\" target=\"_parent\"><img src=\"https://colab.research.google.com/assets/colab-badge.svg\" alt=\"Open In Colab\"/></a>"
      ]
    },
    {
      "cell_type": "markdown",
      "source": [
        "# Download images & annotations"
      ],
      "metadata": {
        "id": "LkN6Ih4Y_8we"
      }
    },
    {
      "cell_type": "code",
      "execution_count": 1,
      "metadata": {
        "colab": {
          "base_uri": "https://localhost:8080/"
        },
        "id": "McKz6YK66Rai",
        "outputId": "d1e0398b-01d3-4315-e4f4-9ae6c9adc508"
      },
      "outputs": [
        {
          "output_type": "stream",
          "name": "stdout",
          "text": [
            "  % Total    % Received % Xferd  Average Speed   Time    Time     Time  Current\n",
            "                                 Dload  Upload   Total   Spent    Left  Speed\n",
            "100 2625M  100 2625M    0     0  11.6M      0  0:03:45  0:03:45 --:--:-- 5568k\n"
          ]
        }
      ],
      "source": [
        "# curl : download data and save to file\n",
        "!curl -O https://www.robots.ox.ac.uk/~vgg/data/fgvc-aircraft/archives/fgvc-aircraft-2013b.tar.gz"
      ]
    },
    {
      "cell_type": "code",
      "source": [
        "# Fichiers tar\n",
        "# commandes :\n",
        "#   x : extraire\n",
        "#   t : lister les fichiers sans décompresser\n",
        "#   v : pour avoir du détail (verbose)\n",
        "#   z : le fichier est compressé\n",
        "#   c : créer un tarfile\n",
        "#   f : pour indiquer le nom du fichier (en dernier dans la liste des options)\n",
        "#\n",
        "# Exemple pour lister les fichiers avant de décompresser\n",
        "!tar tzvf fgvc-aircraft-2013b.tar.gz"
      ],
      "metadata": {
        "id": "Bh4h8pVg7N7Z"
      },
      "execution_count": null,
      "outputs": []
    },
    {
      "cell_type": "markdown",
      "source": [
        "## Untar files"
      ],
      "metadata": {
        "id": "An7bvakOADHm"
      }
    },
    {
      "cell_type": "code",
      "source": [
        "!tar xzf fgvc-aircraft-2013b.tar.gz"
      ],
      "metadata": {
        "id": "vBtpWctQ-hGO"
      },
      "execution_count": 3,
      "outputs": []
    },
    {
      "cell_type": "code",
      "source": [
        ""
      ],
      "metadata": {
        "id": "Jn7s6G2E_Qku"
      },
      "execution_count": null,
      "outputs": []
    }
  ]
}